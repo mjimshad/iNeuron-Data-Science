{
 "cells": [
  {
   "cell_type": "markdown",
   "id": "6ead8ec3",
   "metadata": {},
   "source": [
    "# Question. 1"
   ]
  },
  {
   "cell_type": "code",
   "execution_count": 40,
   "id": "f7d10aee",
   "metadata": {},
   "outputs": [],
   "source": [
    "import logging\n",
    "    \n",
    "logging.basicConfig(filename = \"file.log\",\n",
    "                    level = logging.INFO,\n",
    "                    format = '%(asctime)s %(levelname)s %(message)s',\n",
    "                    datefmt = '%Y-%m-%d %H:%M:%S')\n",
    "    \n",
    "# Creating logger object\n",
    "logger = logging.getLogger()\n",
    "logger.setLevel(logging.DEBUG)"
   ]
  },
  {
   "cell_type": "code",
   "execution_count": 41,
   "id": "b1bbfb0a",
   "metadata": {},
   "outputs": [],
   "source": [
    "class file:\n",
    "    \n",
    "    def __init__(self,path):\n",
    "        self.path = path\n",
    "        \n",
    "    def replace(self,old_str,new_str):\n",
    "        try: \n",
    "            self.old_str = old_str\n",
    "            self.new_str = new_str\n",
    "            f = open(self.path,\"r+\")\n",
    "            data = f.read()\n",
    "            data = data.replace(self.old_str, self.new_str)\n",
    "            f.close()\n",
    "            f = open(self.path,\"w+\")\n",
    "            f.write(data)\n",
    "            f.close()\n",
    "        except Exception as e:\n",
    "            print(\"Error!\",e)\n",
    "            logger.error(e)\n",
    "        else:\n",
    "            print(\"Replaced successfully!\")\n",
    "            logger.info(\"Replaced successfully!\")\n",
    "            \n",
    "    def check(self):\n",
    "        try:\n",
    "            f = open(self.path,\"r+\")\n",
    "            l = f.readlines()\n",
    "            print(l)\n",
    "        except Exception as e:\n",
    "            print(\"Error!\",e)\n",
    "            logger.error(e)"
   ]
  },
  {
   "cell_type": "code",
   "execution_count": 42,
   "id": "8abf2648",
   "metadata": {},
   "outputs": [],
   "source": [
    "a = file(\"example.txt\")"
   ]
  },
  {
   "cell_type": "code",
   "execution_count": 43,
   "id": "7febb7b1",
   "metadata": {},
   "outputs": [
    {
     "name": "stdout",
     "output_type": "stream",
     "text": [
      "Replaced successfully!\n"
     ]
    }
   ],
   "source": [
    "a.replace(\"placement\",\"screening\")"
   ]
  },
  {
   "cell_type": "code",
   "execution_count": 44,
   "id": "9dd54d17",
   "metadata": {},
   "outputs": [
    {
     "name": "stdout",
     "output_type": "stream",
     "text": [
      "['This is a screening assignment']\n"
     ]
    }
   ],
   "source": [
    "a.check()"
   ]
  },
  {
   "cell_type": "code",
   "execution_count": null,
   "id": "06c97a0b",
   "metadata": {},
   "outputs": [],
   "source": []
  },
  {
   "cell_type": "markdown",
   "id": "1b2276d6",
   "metadata": {},
   "source": [
    "# 2. Demonstrate use of abstract class, multiple inheritance and decorator in python using examples."
   ]
  },
  {
   "cell_type": "markdown",
   "id": "da0b3bcd",
   "metadata": {},
   "source": [
    "#### Abstract class can be considered as a blueprint for other classes"
   ]
  },
  {
   "cell_type": "code",
   "execution_count": 45,
   "id": "6f12541b",
   "metadata": {},
   "outputs": [
    {
     "name": "stdout",
     "output_type": "stream",
     "text": [
      "I can walk and run\n",
      "I can crawl\n",
      "I can bark\n",
      "I can roar\n"
     ]
    }
   ],
   "source": [
    "from abc import ABC, abstractmethod\n",
    "class Animal(ABC):\n",
    "# Here abc is a package and ABC is a class init.\n",
    "# Animal is a child class and ABC is a parent class\n",
    "\n",
    "\n",
    "    def move(self):\n",
    "        pass\n",
    " \n",
    "class Human(Animal):\n",
    " \n",
    "    def move(self):\n",
    "        print(\"I can walk and run\")\n",
    " \n",
    "class Snake(Animal):\n",
    " \n",
    "    def move(self):\n",
    "        print(\"I can crawl\")\n",
    " \n",
    "class Dog(Animal):\n",
    " \n",
    "    def move(self):\n",
    "        print(\"I can bark\")\n",
    " \n",
    "class Lion(Animal):\n",
    " \n",
    "    def move(self):\n",
    "        print(\"I can roar\")\n",
    "         \n",
    "\n",
    "R = Human()\n",
    "R.move()\n",
    " \n",
    "K = Snake()\n",
    "K.move()\n",
    " \n",
    "R = Dog()\n",
    "R.move()\n",
    " \n",
    "K = Lion()\n",
    "K.move()"
   ]
  },
  {
   "cell_type": "markdown",
   "id": "e80d5808",
   "metadata": {},
   "source": [
    "## Multiple Inheritance"
   ]
  },
  {
   "cell_type": "code",
   "execution_count": null,
   "id": "d099bea8",
   "metadata": {},
   "outputs": [],
   "source": [
    "class Class1:\n",
    "    def m(self):\n",
    "        print(\"In Class1\")\n",
    "       \n",
    "class Class2(Class1):\n",
    "    def m(self):\n",
    "        print(\"In Class2\")\n",
    " \n",
    "class Class3(Class1):\n",
    "    def m(self):\n",
    "        print(\"In Class3\") \n",
    "        \n",
    "class Class4(Class2, Class3):\n",
    "    pass  \n",
    "     \n",
    "obj = Class4()\n",
    "obj.m()"
   ]
  },
  {
   "cell_type": "code",
   "execution_count": 46,
   "id": "78838376",
   "metadata": {},
   "outputs": [],
   "source": [
    "# Here class1 is a parent class\n",
    "# class2 derived the methods of class1\n",
    "# class3 derived the methods of class1\n",
    "# class4 derives the method of class2 and class3"
   ]
  },
  {
   "cell_type": "code",
   "execution_count": null,
   "id": "3b25ec16",
   "metadata": {},
   "outputs": [],
   "source": []
  }
 ],
 "metadata": {
  "kernelspec": {
   "display_name": "Python 3",
   "language": "python",
   "name": "python3"
  },
  "language_info": {
   "codemirror_mode": {
    "name": "ipython",
    "version": 3
   },
   "file_extension": ".py",
   "mimetype": "text/x-python",
   "name": "python",
   "nbconvert_exporter": "python",
   "pygments_lexer": "ipython3",
   "version": "3.8.8"
  }
 },
 "nbformat": 4,
 "nbformat_minor": 5
}
